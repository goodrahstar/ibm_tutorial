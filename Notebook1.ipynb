{
    "cells": [
        {
            "cell_type": "markdown",
            "metadata": {},
            "source": "# Sample notebook\nThis is a sample notebook to load data"
        },
        {
            "cell_type": "code",
            "execution_count": 1,
            "metadata": {},
            "outputs": [
                {
                    "data": {
                        "text/html": "<div>\n<style scoped>\n    .dataframe tbody tr th:only-of-type {\n        vertical-align: middle;\n    }\n\n    .dataframe tbody tr th {\n        vertical-align: top;\n    }\n\n    .dataframe thead th {\n        text-align: right;\n    }\n</style>\n<table border=\"1\" class=\"dataframe\">\n  <thead>\n    <tr style=\"text-align: right;\">\n      <th></th>\n      <th>loan_amnt</th>\n      <th>funded_amnt</th>\n      <th>funded_amnt_inv</th>\n      <th>term</th>\n      <th>int_rate</th>\n      <th>installment</th>\n      <th>grade</th>\n      <th>emp_title</th>\n      <th>emp_length</th>\n      <th>home_ownership</th>\n      <th>...</th>\n      <th>percent_bc_gt_75</th>\n      <th>pub_rec_bankruptcies</th>\n      <th>tax_liens</th>\n      <th>tot_hi_cred_lim</th>\n      <th>total_bal_ex_mort</th>\n      <th>total_bc_limit</th>\n      <th>total_il_high_credit_limit</th>\n      <th>hardship_flag</th>\n      <th>disbursement_method</th>\n      <th>debt_settlement_flag</th>\n    </tr>\n  </thead>\n  <tbody>\n    <tr>\n      <th>0</th>\n      <td>2500</td>\n      <td>2500</td>\n      <td>2500</td>\n      <td>36 months</td>\n      <td>13.56</td>\n      <td>84.92</td>\n      <td>C</td>\n      <td>Chef</td>\n      <td>10+ years</td>\n      <td>RENT</td>\n      <td>...</td>\n      <td>0.0</td>\n      <td>1</td>\n      <td>0</td>\n      <td>60124</td>\n      <td>16901</td>\n      <td>36500</td>\n      <td>18124</td>\n      <td>N</td>\n      <td>Cash</td>\n      <td>N</td>\n    </tr>\n    <tr>\n      <th>1</th>\n      <td>30000</td>\n      <td>30000</td>\n      <td>30000</td>\n      <td>60 months</td>\n      <td>18.94</td>\n      <td>777.23</td>\n      <td>D</td>\n      <td>Postmaster</td>\n      <td>10+ years</td>\n      <td>MORTGAGE</td>\n      <td>...</td>\n      <td>0.0</td>\n      <td>1</td>\n      <td>0</td>\n      <td>372872</td>\n      <td>99468</td>\n      <td>15000</td>\n      <td>94072</td>\n      <td>N</td>\n      <td>Cash</td>\n      <td>N</td>\n    </tr>\n    <tr>\n      <th>2</th>\n      <td>5000</td>\n      <td>5000</td>\n      <td>5000</td>\n      <td>36 months</td>\n      <td>17.97</td>\n      <td>180.69</td>\n      <td>D</td>\n      <td>Administrative</td>\n      <td>6 years</td>\n      <td>MORTGAGE</td>\n      <td>...</td>\n      <td>0.0</td>\n      <td>0</td>\n      <td>0</td>\n      <td>136927</td>\n      <td>11749</td>\n      <td>13800</td>\n      <td>10000</td>\n      <td>N</td>\n      <td>Cash</td>\n      <td>N</td>\n    </tr>\n    <tr>\n      <th>3</th>\n      <td>4000</td>\n      <td>4000</td>\n      <td>4000</td>\n      <td>36 months</td>\n      <td>18.94</td>\n      <td>146.51</td>\n      <td>D</td>\n      <td>IT Supervisor</td>\n      <td>10+ years</td>\n      <td>MORTGAGE</td>\n      <td>...</td>\n      <td>100.0</td>\n      <td>0</td>\n      <td>0</td>\n      <td>385183</td>\n      <td>36151</td>\n      <td>5000</td>\n      <td>44984</td>\n      <td>N</td>\n      <td>Cash</td>\n      <td>N</td>\n    </tr>\n    <tr>\n      <th>4</th>\n      <td>30000</td>\n      <td>30000</td>\n      <td>30000</td>\n      <td>60 months</td>\n      <td>16.14</td>\n      <td>731.78</td>\n      <td>C</td>\n      <td>Mechanic</td>\n      <td>10+ years</td>\n      <td>MORTGAGE</td>\n      <td>...</td>\n      <td>0.0</td>\n      <td>0</td>\n      <td>0</td>\n      <td>157548</td>\n      <td>29674</td>\n      <td>9300</td>\n      <td>32332</td>\n      <td>N</td>\n      <td>Cash</td>\n      <td>N</td>\n    </tr>\n  </tbody>\n</table>\n<p>5 rows \u00d7 98 columns</p>\n</div>",
                        "text/plain": "   loan_amnt  funded_amnt  funded_amnt_inv        term  int_rate  installment  \\\n0       2500         2500             2500   36 months     13.56        84.92   \n1      30000        30000            30000   60 months     18.94       777.23   \n2       5000         5000             5000   36 months     17.97       180.69   \n3       4000         4000             4000   36 months     18.94       146.51   \n4      30000        30000            30000   60 months     16.14       731.78   \n\n  grade       emp_title emp_length home_ownership  ...  percent_bc_gt_75  \\\n0     C            Chef  10+ years           RENT  ...               0.0   \n1     D     Postmaster   10+ years       MORTGAGE  ...               0.0   \n2     D  Administrative    6 years       MORTGAGE  ...               0.0   \n3     D   IT Supervisor  10+ years       MORTGAGE  ...             100.0   \n4     C        Mechanic  10+ years       MORTGAGE  ...               0.0   \n\n  pub_rec_bankruptcies tax_liens tot_hi_cred_lim total_bal_ex_mort  \\\n0                    1         0           60124             16901   \n1                    1         0          372872             99468   \n2                    0         0          136927             11749   \n3                    0         0          385183             36151   \n4                    0         0          157548             29674   \n\n  total_bc_limit total_il_high_credit_limit  hardship_flag  \\\n0          36500                      18124              N   \n1          15000                      94072              N   \n2          13800                      10000              N   \n3           5000                      44984              N   \n4           9300                      32332              N   \n\n   disbursement_method  debt_settlement_flag  \n0                 Cash                     N  \n1                 Cash                     N  \n2                 Cash                     N  \n3                 Cash                     N  \n4                 Cash                     N  \n\n[5 rows x 98 columns]"
                    },
                    "execution_count": 1,
                    "metadata": {},
                    "output_type": "execute_result"
                }
            ],
            "source": "# The code was removed by Watson Studio for sharing."
        },
        {
            "cell_type": "code",
            "execution_count": null,
            "metadata": {},
            "outputs": [],
            "source": "\nbody = client_0c40be34a95c47ca92970b3a5b2daa55.get_object(Bucket='projectdemo1-donotdelete-pr-unt5jk5ac2fgxd',Key='UCI Bank Marketing Data Set.csv')['Body']\n# add missing __iter__ method, so pandas accepts body as file-like object\nif not hasattr(body, \"__iter__\"): body.__iter__ = types.MethodType( __iter__, body )\n\ndf_data_2 = pd.read_csv(body)\ndf_data_2.head()\n"
        }
    ],
    "metadata": {
        "kernelspec": {
            "display_name": "Python 3.6",
            "language": "python",
            "name": "python3"
        },
        "language_info": {
            "codemirror_mode": {
                "name": "ipython",
                "version": 3
            },
            "file_extension": ".py",
            "mimetype": "text/x-python",
            "name": "python",
            "nbconvert_exporter": "python",
            "pygments_lexer": "ipython3",
            "version": "3.6.9"
        }
    },
    "nbformat": 4,
    "nbformat_minor": 1
}